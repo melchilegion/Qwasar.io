{
 "cells": [
  {
   "cell_type": "code",
   "execution_count": 1,
   "id": "7ca1539d",
   "metadata": {},
   "outputs": [],
   "source": [
    "# This project involves building a simple search engine for an encyclopedia focused on Earth-related topics, using data from a Wikipedia article about the Ozone Layer. Below, I'll outline the steps and provide code snippets for each part of the process.\n",
    "\n",
    "### Step 1: Retrieve Article Content\n",
    "\n",
    "# We'll start by creating a function to retrieve the content of the Wikipedia article using the Wikipedia API.\n",
    "\n",
    "# ```python\n",
    "import requests\n",
    "import re\n",
    "from collections import Counter\n",
    "import matplotlib.pyplot as plt\n",
    "\n",
    "# Step 1: Retrieve Article Content\n",
    "def get_content(article_name):\n",
    "    url = f\"https://en.wikipedia.org/w/api.php\"\n",
    "    params = {\n",
    "        \"action\": \"query\",\n",
    "        \"format\": \"json\",\n",
    "        \"titles\": article_name,\n",
    "        \"prop\": \"revisions\",\n",
    "        \"rvprop\": \"content\",\n",
    "        \"rvslots\": \"*\",\n",
    "        \"formatversion\": 2\n",
    "    }\n",
    "    response = requests.get(url, params=params)\n",
    "    return response.json()"
   ]
  },
  {
   "cell_type": "code",
   "execution_count": 2,
   "id": "c7d1fec5",
   "metadata": {},
   "outputs": [],
   "source": [
    "### Step 2: Merge Contents\n",
    "\n",
    "# Next, we need to extract the relevant content from the JSON response.\n",
    "\n",
    "# Step 2: Merge Contents\n",
    "def merge_contents(data):\n",
    "    pages = data['query']['pages']\n",
    "    content = []\n",
    "    for page in pages:\n",
    "        if 'revisions' in page:\n",
    "            for revision in page['revisions']:\n",
    "                if 'slots' in revision and 'main' in revision['slots']:\n",
    "                    # Extract the content\n",
    "                    page_content = revision['slots']['main']['content']\n",
    "                    # Remove citations, URLs, and wiki markup\n",
    "                    page_content = re.sub(r'{{[^}]+}}', '', page_content)  # Remove citations\n",
    "                    page_content = re.sub(r'\\[http[^\\]]+\\]', '', page_content)  # Remove URLs\n",
    "                    page_content = re.sub(r'\\[\\[.*?\\|', '', page_content)  # Remove wiki links with labels\n",
    "                    page_content = re.sub(r'\\[\\[.*?\\]\\]', '', page_content)  # Remove wiki links without labels\n",
    "                    page_content = re.sub(r'\\n+', ' ', page_content)  # Replace newlines with spaces\n",
    "                    page_content = re.sub(r'\\s+', ' ', page_content)  # Replace multiple spaces with a single space\n",
    "                    content.append(page_content.strip())\n",
    "    return ' '.join(content)\n"
   ]
  },
  {
   "cell_type": "code",
   "execution_count": 3,
   "id": "4f38fe3f",
   "metadata": {},
   "outputs": [],
   "source": [
    "### Step 3: Tokenization\n",
    "\n",
    "# Now, we will tokenize the content into words.\n",
    "\n",
    "# ```python\n",
    "# Step 3: Tokenization\n",
    "def tokenize(content):\n",
    "    # Split the content into words using regex to handle various delimiters\n",
    "    return re.findall(r'\\b\\w+\\b', content)"
   ]
  },
  {
   "cell_type": "code",
   "execution_count": 4,
   "id": "52eab9b9",
   "metadata": {},
   "outputs": [],
   "source": [
    "### Step 4: Lowercase Conversion\n",
    "\n",
    "# Convert all words to lowercase.\n",
    "\n",
    "# Step 4: Lowercase Conversion\n",
    "def lower_collection(collection):\n",
    "    return [word.lower() for word in collection]"
   ]
  },
  {
   "cell_type": "code",
   "execution_count": 5,
   "id": "9c6af2e5",
   "metadata": {},
   "outputs": [],
   "source": [
    "### Step 5: Count Frequency\n",
    "\n",
    "# Count the occurrences of each word.\n",
    "\n",
    "# Step 5: Count Frequency\n",
    "def count_frequency(collection):\n",
    "    return Counter(collection)\n"
   ]
  },
  {
   "cell_type": "code",
   "execution_count": 6,
   "id": "3b045b27",
   "metadata": {},
   "outputs": [],
   "source": [
    "### Step 6: Print Most Frequent Words\n",
    "\n",
    "# Print the most frequent words.\n",
    "\n",
    "# Step 6: Print Most Frequent Words\n",
    "def print_most_frequent(frequencies, n):\n",
    "    most_common = frequencies.most_common(n)\n",
    "    for word, freq in most_common:\n",
    "        print(f\"{word}: {freq}\")"
   ]
  },
  {
   "cell_type": "code",
   "execution_count": 7,
   "id": "cd3357d0",
   "metadata": {},
   "outputs": [],
   "source": [
    "### Step 7: Visualization\n",
    "\n",
    "# Visualize the 20 most frequent words using a histogram.\n",
    "\n",
    "# Step 7: Visualization\n",
    "def plot_frequencies(frequencies, n):\n",
    "    most_common = frequencies.most_common(n)\n",
    "    words, counts = zip(*most_common)\n",
    "    plt.bar(words, counts)\n",
    "    plt.xticks(rotation=45)\n",
    "    plt.title(f'Top {n} Most Frequent Words')\n",
    "    plt.xlabel('Words')\n",
    "    plt.ylabel('Frequency')\n",
    "    plt.show()\n"
   ]
  },
  {
   "cell_type": "code",
   "execution_count": 8,
   "id": "20fe14d2",
   "metadata": {},
   "outputs": [],
   "source": [
    "### Step 8: Remove Stop Words\n",
    "\n",
    "# Create a list of stop words and filter them out.\n",
    "\n",
    "# Step 8: Remove Stop Words\n",
    "stop_words = [\"the\", \"a\", \"of\", \"to\", \"in\", \"about\", \"and\", \"is\", \"that\", \"it\", \"for\", \"on\", \"as\", \"by\", \"with\"]\n",
    "\n",
    "def remove_stop_words(words, stop_words):\n",
    "    return [word for word in words if word not in stop_words]\n"
   ]
  },
  {
   "cell_type": "code",
   "execution_count": 9,
   "id": "7a42f25d",
   "metadata": {},
   "outputs": [
    {
     "name": "stdout",
     "output_type": "stream",
     "text": [
      "the: 202\n",
      "of: 100\n",
      "ozone: 89\n",
      "and: 69\n",
      "in: 65\n",
      "to: 57\n",
      "ref: 55\n",
      "is: 40\n",
      "a: 32\n",
      "by: 31\n"
     ]
    },
    {
     "data": {
      "image/png": "[encoded data removed]",
      "text/plain": [
       "<Figure size 432x288 with 1 Axes>"
      ]
     },
     "metadata": {
      "needs_background": "light"
     },
     "output_type": "display_data"
    },
    {
     "data": {
      "image/png": "[encoded data removed]",
      "text/plain": [
       "<Figure size 432x288 with 1 Axes>"
      ]
     },
     "metadata": {
      "needs_background": "light"
     },
     "output_type": "display_data"
    }
   ],
   "source": [
    "### Step 9: Visualize Filtered Frequencies\n",
    "\n",
    "# Visualize the 25 most frequent words in the filtered collection.\n",
    "\n",
    "# Main Execution\n",
    "data = get_content(\"Ozone_layer\")\n",
    "merge_content = merge_contents(data)\n",
    "collection = tokenize(merge_content)\n",
    "collection = lower_collection(collection)\n",
    "frequencies = count_frequency(collection)\n",
    "\n",
    "print_most_frequent(frequencies, 10)\n",
    "plot_frequencies(frequencies, 20)\n",
    "\n",
    "filtered_collection = remove_stop_words(collection, stop_words)\n",
    "filtered_frequencies = count_frequency(filtered_collection)\n",
    "plot_frequencies(filtered_frequencies, 25)\n",
    "### Conclusion\n",
    "\n",
    "# This code provides a basic framework for building a search engine using the content of a Wikipedia article. You can further enhance this by implementing additional features like stemming, more sophisticated tokenization, or integrating with a database for storing and retrieving articles."
   ]
  },
  {
   "cell_type": "code",
   "execution_count": null,
   "id": "d3dce079",
   "metadata": {},
   "outputs": [],
   "source": []
  }
 ],
 "metadata": {
  "kernelspec": {
   "display_name": "Python 3",
   "language": "python",
   "name": "python3"
  },
  "language_info": {
   "codemirror_mode": {
    "name": "ipython",
    "version": 3
   },
   "file_extension": ".py",
   "mimetype": "text/x-python",
   "name": "python",
   "nbconvert_exporter": "python",
   "pygments_lexer": "ipython3",
   "version": "3.6.7"
  }
 },
 "nbformat": 4,
 "nbformat_minor": 5
}
